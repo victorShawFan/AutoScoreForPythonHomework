{
 "cells": [
  {
   "cell_type": "markdown",
   "metadata": {},
   "source": [
    "# python文件中需要input的使用这个脚本生成文件名列表txt，并且在终端执行shell脚本"
   ]
  },
  {
   "cell_type": "code",
   "execution_count": null,
   "metadata": {},
   "outputs": [],
   "source": [
    "# 将当前文件夹下所有py文件收集\n",
    "import os\n",
    "\n",
    "def find_all_pdf(pdir):\n",
    "    pdfdir = []\n",
    "    for root,ds,fs in os.walk(pdir):\n",
    "        for f in fs:\n",
    "            if \".py\" in f:\n",
    "                pdfdir.append(os.path.join(root,f))\n",
    "    return pdfdir\n",
    "    \n",
    "p1dir = find_all_pdf(\"./\")\n",
    "p1dir"
   ]
  },
  {
   "cell_type": "code",
   "execution_count": null,
   "metadata": {},
   "outputs": [],
   "source": [
    "# 带有空格的文件名需要处理\n",
    "import os\n",
    "for i in p1dir:\n",
    "    if \" \" in i:\n",
    "        print(i)\n",
    "        os.rename(i,i.replace(\" \",\"_\"))"
   ]
  },
  {
   "cell_type": "code",
   "execution_count": null,
   "metadata": {},
   "outputs": [],
   "source": [
    "# 将文件名写入一个txt\n",
    "with open(\"p1.txt\",\"w\",encoding=\"utf-8\") as f:\n",
    "    for p in p1dir:\n",
    "        f.write(p+\"\\n\")"
   ]
  },
  {
   "cell_type": "markdown",
   "metadata": {},
   "source": [
    "下一步是在当前文件夹下执行shell脚本"
   ]
  }
 ],
 "metadata": {
  "interpreter": {
   "hash": "f5c959d7d69755104dbd01bb611d8276612ce0f519226bd341433d81c5938811"
  },
  "kernelspec": {
   "display_name": "Python 3.7.0 64-bit ('Deep': conda)",
   "language": "python",
   "name": "python3"
  },
  "language_info": {
   "codemirror_mode": {
    "name": "ipython",
    "version": 3
   },
   "file_extension": ".py",
   "mimetype": "text/x-python",
   "name": "python",
   "nbconvert_exporter": "python",
   "pygments_lexer": "ipython3",
   "version": "3.7.11"
  },
  "orig_nbformat": 4
 },
 "nbformat": 4,
 "nbformat_minor": 2
}
