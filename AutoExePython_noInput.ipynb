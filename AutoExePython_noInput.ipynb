{
 "cells": [
  {
   "cell_type": "markdown",
   "metadata": {},
   "source": [
    "# python文件中需要直接执行查看结果的使用脚本即可看到结果"
   ]
  },
  {
   "cell_type": "code",
   "execution_count": null,
   "metadata": {},
   "outputs": [],
   "source": [
    "# 将当前文件夹下所有py文件名收集\n",
    "import os\n",
    "\n",
    "def find_all_pdf(pdir):\n",
    "    pdfdir = []\n",
    "    for root,ds,fs in os.walk(pdir):\n",
    "        for f in fs:\n",
    "            if \".py\" in f:\n",
    "                pdfdir.append(os.path.join(root,f))\n",
    "    return pdfdir\n",
    "    \n",
    "p1dir = find_all_pdf(\"./\")\n",
    "p1dir"
   ]
  },
  {
   "cell_type": "code",
   "execution_count": null,
   "metadata": {},
   "outputs": [],
   "source": [
    "# 直接执行并且将输出结果打印\n",
    "import os\n",
    "for i in p1dir:\n",
    "    print(i)\n",
    "    f = os.popen(f\"python {i}\", \"r\").readlines()\n",
    "    f = [i.strip() for i in f]\n",
    "    print(f)"
   ]
  }
 ],
 "metadata": {
  "interpreter": {
   "hash": "34c00aba1d8a341d639cca5e93be6c34beeade483f11021017b7fb7f5117a6e2"
  },
  "kernelspec": {
   "display_name": "Python 3.7.11 64-bit ('xfan': conda)",
   "language": "python",
   "name": "python3"
  },
  "language_info": {
   "codemirror_mode": {
    "name": "ipython",
    "version": 3
   },
   "file_extension": ".py",
   "mimetype": "text/x-python",
   "name": "python",
   "nbconvert_exporter": "python",
   "pygments_lexer": "ipython3",
   "version": "3.7.11"
  },
  "orig_nbformat": 4
 },
 "nbformat": 4,
 "nbformat_minor": 2
}
